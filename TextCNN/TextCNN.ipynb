{
  "nbformat": 4,
  "nbformat_minor": 0,
  "metadata": {
    "colab": {
      "name": "TextCNN.ipynb",
      "version": "0.3.2",
      "provenance": [],
      "collapsed_sections": []
    },
    "kernelspec": {
      "display_name": "Python 3",
      "language": "python",
      "name": "python3"
    },
    "accelerator": "GPU"
  },
  "cells": [
    {
      "metadata": {
        "id": "2cVv-KwTn3Xk",
        "colab_type": "code",
        "outputId": "ab4a344c-d5ca-46a2-f4a0-ae3b5043bb22",
        "colab": {
          "resources": {
            "http://localhost:8080/nbextensions/google.colab/files.js": {
              "data": "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",
              "ok": true,
              "headers": [
                [
                  "content-type",
                  "application/javascript"
                ]
              ],
              "status": 200,
              "status_text": ""
            }
          },
          "base_uri": "https://localhost:8080/",
          "height": 74
        }
      },
      "cell_type": "code",
      "source": [
        "from google.colab import files\n",
        "uploaded = files.upload()"
      ],
      "execution_count": 0,
      "outputs": [
        {
          "output_type": "display_data",
          "data": {
            "text/html": [
              "\n",
              "     <input type=\"file\" id=\"files-b4d59ac8-079b-4e81-a066-d31330589644\" name=\"files[]\" multiple disabled />\n",
              "     <output id=\"result-b4d59ac8-079b-4e81-a066-d31330589644\">\n",
              "      Upload widget is only available when the cell has been executed in the\n",
              "      current browser session. Please rerun this cell to enable.\n",
              "      </output>\n",
              "      <script src=\"/nbextensions/google.colab/files.js\"></script> "
            ],
            "text/plain": [
              "<IPython.core.display.HTML object>"
            ]
          },
          "metadata": {
            "tags": []
          }
        },
        {
          "output_type": "stream",
          "text": [
            "Saving test.csv to test.csv\n"
          ],
          "name": "stdout"
        }
      ]
    },
    {
      "metadata": {
        "id": "vUqxH_u6qpf-",
        "colab_type": "code",
        "outputId": "33b508d0-b360-47ad-8468-feabdac9b64d",
        "colab": {
          "base_uri": "https://localhost:8080/",
          "height": 202
        }
      },
      "cell_type": "code",
      "source": [
        "!wget https://s3-us-west-2.amazonaws.com/allennlp/datasets/glove/glove.840B.300d.txt.gz"
      ],
      "execution_count": 0,
      "outputs": [
        {
          "output_type": "stream",
          "text": [
            "--2019-04-08 15:58:02--  https://s3-us-west-2.amazonaws.com/allennlp/datasets/glove/glove.840B.300d.txt.gz\n",
            "Resolving s3-us-west-2.amazonaws.com (s3-us-west-2.amazonaws.com)... 52.218.248.16\n",
            "Connecting to s3-us-west-2.amazonaws.com (s3-us-west-2.amazonaws.com)|52.218.248.16|:443... connected.\n",
            "HTTP request sent, awaiting response... 200 OK\n",
            "Length: 2176768669 (2.0G) [text/plain]\n",
            "Saving to: ‘glove.840B.300d.txt.gz’\n",
            "\n",
            "glove.840B.300d.txt 100%[===================>]   2.03G  58.6MB/s    in 44s     \n",
            "\n",
            "2019-04-08 15:58:46 (47.6 MB/s) - ‘glove.840B.300d.txt.gz’ saved [2176768669/2176768669]\n",
            "\n"
          ],
          "name": "stdout"
        }
      ]
    },
    {
      "metadata": {
        "id": "KAgbDua2rXiq",
        "colab_type": "code",
        "colab": {}
      },
      "cell_type": "code",
      "source": [
        "!gunzip -k glove.840B.300d.txt.gz"
      ],
      "execution_count": 0,
      "outputs": []
    },
    {
      "metadata": {
        "colab_type": "code",
        "id": "9xik7eS37K4G",
        "outputId": "150daccc-cfa8-48f6-dc93-25d4131f5381",
        "colab": {
          "base_uri": "https://localhost:8080/",
          "height": 34
        }
      },
      "cell_type": "code",
      "source": [
        "import numpy as np\n",
        "import pandas as pd\n",
        "from tqdm import tqdm\n",
        "from keras.preprocessing.text import Tokenizer\n",
        "from keras.preprocessing.sequence import pad_sequences\n",
        "from keras.utils.np_utils import to_categorical\n",
        "from keras.layers import Embedding\n",
        "from keras.layers import Dense, Flatten\n",
        "from keras.layers import Conv1D, MaxPooling1D, Embedding, Dropout\n",
        "from keras.models import Model\n",
        "from keras.optimizers import Adam\n",
        "from keras.models import Sequential\n",
        "from keras.callbacks import Callback\n",
        "from keras.callbacks import ModelCheckpoint\n",
        "import keras.backend as K\n",
        "from nltk.probability import FreqDist\n",
        "from sklearn.preprocessing import LabelEncoder\n",
        "from sklearn.preprocessing import OneHotEncoder\n",
        "from sklearn.model_selection import train_test_split\n",
        "from sklearn.metrics import f1_score\n",
        "from sklearn.utils import class_weight\n",
        "import matplotlib.pyplot as plt\n",
        "%matplotlib inline"
      ],
      "execution_count": 0,
      "outputs": [
        {
          "output_type": "stream",
          "text": [
            "Using TensorFlow backend.\n"
          ],
          "name": "stderr"
        }
      ]
    },
    {
      "metadata": {
        "id": "l4MgTfU8oE6h",
        "colab_type": "code",
        "colab": {}
      },
      "cell_type": "code",
      "source": [
        "df = pd.read_csv(\"train.csv\",header = None)"
      ],
      "execution_count": 0,
      "outputs": []
    },
    {
      "metadata": {
        "id": "zHKoxItoU_jy",
        "colab_type": "text"
      },
      "cell_type": "markdown",
      "source": [
        "Concatenating the title and the description to form a single column."
      ]
    },
    {
      "metadata": {
        "id": "yzL9zWoMoEvP",
        "colab_type": "code",
        "colab": {}
      },
      "cell_type": "code",
      "source": [
        "concatlist = []\n",
        "for x in range(df[0].shape[0]):\n",
        "  concatlist.append(df.loc[x][1] + ' ' + df.loc[x][2])"
      ],
      "execution_count": 0,
      "outputs": []
    },
    {
      "metadata": {
        "id": "MApaBS7BoEkG",
        "colab_type": "code",
        "colab": {}
      },
      "cell_type": "code",
      "source": [
        "d = {1:concatlist , 2:df[0]}"
      ],
      "execution_count": 0,
      "outputs": []
    },
    {
      "metadata": {
        "id": "DKAK8bTNo3_y",
        "colab_type": "code",
        "colab": {}
      },
      "cell_type": "code",
      "source": [
        "data = pd.DataFrame(d)"
      ],
      "execution_count": 0,
      "outputs": []
    },
    {
      "metadata": {
        "id": "tgSNdh7vpSfb",
        "colab_type": "code",
        "outputId": "57f05660-9e59-4b0e-bee1-3cd9993bf90a",
        "colab": {
          "base_uri": "https://localhost:8080/",
          "height": 195
        }
      },
      "cell_type": "code",
      "source": [
        "data.head()"
      ],
      "execution_count": 0,
      "outputs": [
        {
          "output_type": "execute_result",
          "data": {
            "text/html": [
              "<div>\n",
              "<style scoped>\n",
              "    .dataframe tbody tr th:only-of-type {\n",
              "        vertical-align: middle;\n",
              "    }\n",
              "\n",
              "    .dataframe tbody tr th {\n",
              "        vertical-align: top;\n",
              "    }\n",
              "\n",
              "    .dataframe thead th {\n",
              "        text-align: right;\n",
              "    }\n",
              "</style>\n",
              "<table border=\"1\" class=\"dataframe\">\n",
              "  <thead>\n",
              "    <tr style=\"text-align: right;\">\n",
              "      <th></th>\n",
              "      <th>1</th>\n",
              "      <th>2</th>\n",
              "    </tr>\n",
              "  </thead>\n",
              "  <tbody>\n",
              "    <tr>\n",
              "      <th>0</th>\n",
              "      <td>Wall St. Bears Claw Back Into the Black (Reute...</td>\n",
              "      <td>3</td>\n",
              "    </tr>\n",
              "    <tr>\n",
              "      <th>1</th>\n",
              "      <td>Carlyle Looks Toward Commercial Aerospace (Reu...</td>\n",
              "      <td>3</td>\n",
              "    </tr>\n",
              "    <tr>\n",
              "      <th>2</th>\n",
              "      <td>Oil and Economy Cloud Stocks' Outlook (Reuters...</td>\n",
              "      <td>3</td>\n",
              "    </tr>\n",
              "    <tr>\n",
              "      <th>3</th>\n",
              "      <td>Iraq Halts Oil Exports from Main Southern Pipe...</td>\n",
              "      <td>3</td>\n",
              "    </tr>\n",
              "    <tr>\n",
              "      <th>4</th>\n",
              "      <td>Oil prices soar to all-time record, posing new...</td>\n",
              "      <td>3</td>\n",
              "    </tr>\n",
              "  </tbody>\n",
              "</table>\n",
              "</div>"
            ],
            "text/plain": [
              "                                                   1  2\n",
              "0  Wall St. Bears Claw Back Into the Black (Reute...  3\n",
              "1  Carlyle Looks Toward Commercial Aerospace (Reu...  3\n",
              "2  Oil and Economy Cloud Stocks' Outlook (Reuters...  3\n",
              "3  Iraq Halts Oil Exports from Main Southern Pipe...  3\n",
              "4  Oil prices soar to all-time record, posing new...  3"
            ]
          },
          "metadata": {
            "tags": []
          },
          "execution_count": 7
        }
      ]
    },
    {
      "metadata": {
        "colab_type": "text",
        "id": "OogmMgh0Lv-8"
      },
      "cell_type": "markdown",
      "source": [
        "#### Make a list of all tokens in the data"
      ]
    },
    {
      "metadata": {
        "colab_type": "code",
        "id": "Mo9cqfxp7K4T",
        "colab": {}
      },
      "cell_type": "code",
      "source": [
        "all_tokens = [token.lower() for i in data.index for token in data.loc[i, 1].split()]"
      ],
      "execution_count": 0,
      "outputs": []
    },
    {
      "metadata": {
        "id": "p7ke_kZ4T8gt",
        "colab_type": "code",
        "outputId": "e0ed14d5-9ef4-4d3e-f45c-33a649153dff",
        "colab": {
          "base_uri": "https://localhost:8080/",
          "height": 34
        }
      },
      "cell_type": "code",
      "source": [
        "len(all_tokens)"
      ],
      "execution_count": 0,
      "outputs": [
        {
          "output_type": "execute_result",
          "data": {
            "text/plain": [
              "4541694"
            ]
          },
          "metadata": {
            "tags": []
          },
          "execution_count": 57
        }
      ]
    },
    {
      "metadata": {
        "colab_type": "text",
        "id": "99JoMcJgLv_A"
      },
      "cell_type": "markdown",
      "source": [
        "#### Compute frequency counts of the tokens"
      ]
    },
    {
      "metadata": {
        "colab_type": "code",
        "id": "lMYvyFgv7K4V",
        "colab": {}
      },
      "cell_type": "code",
      "source": [
        "freq = dict(FreqDist(all_tokens))"
      ],
      "execution_count": 0,
      "outputs": []
    },
    {
      "metadata": {
        "colab_type": "code",
        "id": "wMQI2peI7K4Y",
        "outputId": "b907bf8a-c45b-4ab8-80d1-62722c39b74b",
        "colab": {
          "base_uri": "https://localhost:8080/",
          "height": 34
        }
      },
      "cell_type": "code",
      "source": [
        "word_counts = sorted(freq.values(), reverse=True)\n",
        "print('Total no. of unique tokens:', len(word_counts))"
      ],
      "execution_count": 0,
      "outputs": [
        {
          "output_type": "stream",
          "text": [
            "Total no. of unique tokens: 158733\n"
          ],
          "name": "stdout"
        }
      ]
    },
    {
      "metadata": {
        "colab_type": "text",
        "id": "cs67PTI5Lv_M"
      },
      "cell_type": "markdown",
      "source": [
        "#### Tokenize the data and make sequences containing the word ids"
      ]
    },
    {
      "metadata": {
        "colab_type": "code",
        "id": "vnyvwFqm7K4e",
        "colab": {}
      },
      "cell_type": "code",
      "source": [
        "NUM_WORDS = 150000\n",
        "tokenizer = Tokenizer(num_words=NUM_WORDS, filters='')\n",
        "tokenizer.fit_on_texts(data[1])\n",
        "sequences = tokenizer.texts_to_sequences(data[1])\n",
        "word_index = tokenizer.word_index"
      ],
      "execution_count": 0,
      "outputs": []
    },
    {
      "metadata": {
        "colab_type": "text",
        "id": "I1Ok__pdLv_P"
      },
      "cell_type": "markdown",
      "source": [
        "#### Some statistics of the sequence length"
      ]
    },
    {
      "metadata": {
        "colab_type": "code",
        "id": "jh17cirr7K4i",
        "outputId": "cf27be3a-e104-472b-f9eb-1822ad0a6737",
        "colab": {
          "base_uri": "https://localhost:8080/",
          "height": 67
        }
      },
      "cell_type": "code",
      "source": [
        "lengths = np.asarray([len(s) for s in sequences])\n",
        "print('Mean length of sequence:', np.mean(lengths))\n",
        "print('Std. Dev. of length:', np.std(lengths))\n",
        "MAX_LEN = 100\n",
        "print('Percentage of sequences with length less than MAX_LEN:',\\\n",
        "      np.mean(lengths<MAX_LEN)*100)"
      ],
      "execution_count": 0,
      "outputs": [
        {
          "output_type": "stream",
          "text": [
            "Mean length of sequence: 34.354191666666665\n",
            "Std. Dev. of length: 9.414208584010867\n",
            "Percentage of sequences with length less than MAX_LEN: 99.93583333333333\n"
          ],
          "name": "stdout"
        }
      ]
    },
    {
      "metadata": {
        "colab_type": "text",
        "id": "06WlizBnLv_T"
      },
      "cell_type": "markdown",
      "source": [
        "#### Pad the sequences upto MAX_LEN length and one-hot encode labels"
      ]
    },
    {
      "metadata": {
        "colab_type": "code",
        "id": "GaRzpw0Q7K4k",
        "outputId": "8507df7c-24ee-463c-8ae9-aa469ec80307",
        "colab": {
          "base_uri": "https://localhost:8080/",
          "height": 34
        }
      },
      "cell_type": "code",
      "source": [
        "X = pad_sequences(sequences, maxlen=MAX_LEN)\n",
        "\n",
        "# Encode to string valued labels into integers\n",
        "LE = LabelEncoder()\n",
        "LE.fit(data[2])\n",
        "\n",
        "# Convert the integer labels to one-hot\n",
        "labels = to_categorical(LE.transform(data[2]))\n",
        "\n",
        "print('X.shape = %s \\t labels.shape = %s'%(str(X.shape), str(labels.shape)))"
      ],
      "execution_count": 0,
      "outputs": [
        {
          "output_type": "stream",
          "text": [
            "X.shape = (120000, 100) \t labels.shape = (120000, 4)\n"
          ],
          "name": "stdout"
        }
      ]
    },
    {
      "metadata": {
        "colab_type": "text",
        "id": "x0YrUaYjLv_X"
      },
      "cell_type": "markdown",
      "source": [
        "#### Do a train-test split"
      ]
    },
    {
      "metadata": {
        "colab_type": "code",
        "id": "lLb3wBcb7K4o",
        "outputId": "e41547ae-1d51-4a93-9b3c-576d251c8040",
        "colab": {
          "base_uri": "https://localhost:8080/",
          "height": 84
        }
      },
      "cell_type": "code",
      "source": [
        "X_train, X_test, y_train, y_test = train_test_split(X, labels, test_size=5000)\n",
        "print('Shape of X_train:', X_train.shape)\n",
        "print('Shape of X_test:', X_test.shape)\n",
        "print('Shape of y_train:', y_train.shape)\n",
        "print('Shape of y_yest:', y_test.shape)"
      ],
      "execution_count": 0,
      "outputs": [
        {
          "output_type": "stream",
          "text": [
            "Shape of X_train: (115000, 100)\n",
            "Shape of X_test: (5000, 100)\n",
            "Shape of y_train: (115000, 4)\n",
            "Shape of y_yest: (5000, 4)\n"
          ],
          "name": "stdout"
        }
      ]
    },
    {
      "metadata": {
        "colab_type": "text",
        "id": "dhfRsI8KLv_b"
      },
      "cell_type": "markdown",
      "source": [
        "#### Load GloVe word embeddings"
      ]
    },
    {
      "metadata": {
        "colab_type": "code",
        "id": "LBf3Tc-y7K4q",
        "outputId": "d1b77b15-7e17-46bb-acfd-ea35a798d7ab",
        "colab": {
          "base_uri": "https://localhost:8080/",
          "height": 34
        }
      },
      "cell_type": "code",
      "source": [
        "embeddings = {}\n",
        "EMBEDDING_DIM = 300\n",
        "with open('glove.840B.300d.txt', encoding='utf8') as f:\n",
        "    for line in f:\n",
        "        line = line.split(' ')\n",
        "        word = line[0]\n",
        "        vector = np.asarray(line[1:], dtype='float32')\n",
        "        assert len(vector) == EMBEDDING_DIM\n",
        "        embeddings[word] = vector\n",
        "print('Size of vocab: %d'%len(embeddings))"
      ],
      "execution_count": 0,
      "outputs": [
        {
          "output_type": "stream",
          "text": [
            "Size of vocab: 2196016\n"
          ],
          "name": "stdout"
        }
      ]
    },
    {
      "metadata": {
        "colab_type": "text",
        "id": "1ze3eXF9Lv_l"
      },
      "cell_type": "markdown",
      "source": [
        "#### Using the embedding dictionary to compute the embedding matrix"
      ]
    },
    {
      "metadata": {
        "colab_type": "code",
        "id": "rJPMNe1I7K4w",
        "outputId": "5508b9f3-bce3-4737-ce8a-04e932b4ccc3",
        "colab": {
          "base_uri": "https://localhost:8080/",
          "height": 229
        }
      },
      "cell_type": "code",
      "source": [
        "embedding_matrix = np.zeros((len(word_index) + 1, EMBEDDING_DIM))\n",
        "for word, i in word_index.items():\n",
        "    vector = embeddings.get(word)\n",
        "    if vector is not None:\n",
        "        embedding_matrix[i] = vector\n",
        "del embeddings # Free some memory"
      ],
      "execution_count": 0,
      "outputs": [
        {
          "output_type": "error",
          "ename": "NameError",
          "evalue": "ignored",
          "traceback": [
            "\u001b[0;31m---------------------------------------------------------------------------\u001b[0m",
            "\u001b[0;31mNameError\u001b[0m                                 Traceback (most recent call last)",
            "\u001b[0;32m<ipython-input-1-0233d95cb91f>\u001b[0m in \u001b[0;36m<module>\u001b[0;34m()\u001b[0m\n\u001b[0;32m----> 1\u001b[0;31m \u001b[0membedding_matrix\u001b[0m \u001b[0;34m=\u001b[0m \u001b[0mnp\u001b[0m\u001b[0;34m.\u001b[0m\u001b[0mzeros\u001b[0m\u001b[0;34m(\u001b[0m\u001b[0;34m(\u001b[0m\u001b[0mlen\u001b[0m\u001b[0;34m(\u001b[0m\u001b[0mword_index\u001b[0m\u001b[0;34m)\u001b[0m \u001b[0;34m+\u001b[0m \u001b[0;36m1\u001b[0m\u001b[0;34m,\u001b[0m \u001b[0mEMBEDDING_DIM\u001b[0m\u001b[0;34m)\u001b[0m\u001b[0;34m)\u001b[0m\u001b[0;34m\u001b[0m\u001b[0;34m\u001b[0m\u001b[0m\n\u001b[0m\u001b[1;32m      2\u001b[0m \u001b[0;32mfor\u001b[0m \u001b[0mword\u001b[0m\u001b[0;34m,\u001b[0m \u001b[0mi\u001b[0m \u001b[0;32min\u001b[0m \u001b[0mword_index\u001b[0m\u001b[0;34m.\u001b[0m\u001b[0mitems\u001b[0m\u001b[0;34m(\u001b[0m\u001b[0;34m)\u001b[0m\u001b[0;34m:\u001b[0m\u001b[0;34m\u001b[0m\u001b[0;34m\u001b[0m\u001b[0m\n\u001b[1;32m      3\u001b[0m     \u001b[0mvector\u001b[0m \u001b[0;34m=\u001b[0m \u001b[0membeddings\u001b[0m\u001b[0;34m.\u001b[0m\u001b[0mget\u001b[0m\u001b[0;34m(\u001b[0m\u001b[0mword\u001b[0m\u001b[0;34m)\u001b[0m\u001b[0;34m\u001b[0m\u001b[0;34m\u001b[0m\u001b[0m\n\u001b[1;32m      4\u001b[0m     \u001b[0;32mif\u001b[0m \u001b[0mvector\u001b[0m \u001b[0;32mis\u001b[0m \u001b[0;32mnot\u001b[0m \u001b[0;32mNone\u001b[0m\u001b[0;34m:\u001b[0m\u001b[0;34m\u001b[0m\u001b[0;34m\u001b[0m\u001b[0m\n\u001b[1;32m      5\u001b[0m         \u001b[0membedding_matrix\u001b[0m\u001b[0;34m[\u001b[0m\u001b[0mi\u001b[0m\u001b[0;34m]\u001b[0m \u001b[0;34m=\u001b[0m \u001b[0mvector\u001b[0m\u001b[0;34m\u001b[0m\u001b[0;34m\u001b[0m\u001b[0m\n",
            "\u001b[0;31mNameError\u001b[0m: name 'np' is not defined"
          ]
        }
      ]
    },
    {
      "metadata": {
        "colab_type": "text",
        "id": "w3_behZJLv_n"
      },
      "cell_type": "markdown",
      "source": [
        "#### Initialize the embedding layer"
      ]
    },
    {
      "metadata": {
        "colab_type": "code",
        "id": "yJ6hNBJM7K4y",
        "colab": {}
      },
      "cell_type": "code",
      "source": [
        "embedding_layer = Embedding(len(word_index) + 1,\\\n",
        "                            EMBEDDING_DIM,\\\n",
        "                            weights=[embedding_matrix],\\\n",
        "                            input_length=MAX_LEN,\\\n",
        "                            trainable=False)"
      ],
      "execution_count": 0,
      "outputs": []
    },
    {
      "metadata": {
        "colab_type": "code",
        "id": "zEz2PD0t7K43",
        "colab": {}
      },
      "cell_type": "code",
      "source": [
        "cp = ModelCheckpoint('model_cnn.hdf5', monitor='val_loss',\\\n",
        "                     verbose=1, save_best_only=True)"
      ],
      "execution_count": 0,
      "outputs": []
    },
    {
      "metadata": {
        "colab_type": "text",
        "id": "XUauhs8kLv_s"
      },
      "cell_type": "markdown",
      "source": [
        "#### Build the model - 3 Conv layers with dropout in between + 2 Dense layers"
      ]
    },
    {
      "metadata": {
        "colab_type": "code",
        "id": "uyK0HP1l7K45",
        "outputId": "1ffc471c-e025-48e0-eab2-4e885f2a0290",
        "colab": {
          "base_uri": "https://localhost:8080/",
          "height": 470
        }
      },
      "cell_type": "code",
      "source": [
        "model = Sequential()\n",
        "model.add(embedding_layer)\n",
        "model.add(Conv1D(128, 5, activation='relu'))\n",
        "model.add(Dropout(0.5))\n",
        "model.add(Conv1D(128, 5, activation='relu'))\n",
        "model.add(Dropout(0.5))\n",
        "model.add(Conv1D(128, 5, activation='relu'))\n",
        "model.add(Dropout(0.5))\n",
        "model.add(Flatten())\n",
        "model.add(Dense(128, activation='relu'))\n",
        "model.add(Dense(4, activation='softmax'))\n",
        "\n",
        "opt = Adam(1e-3)\n",
        "model.compile(loss='categorical_crossentropy',\n",
        "              optimizer=opt,\n",
        "              metrics=['acc'])\n",
        "\n",
        "model.summary()"
      ],
      "execution_count": 0,
      "outputs": [
        {
          "output_type": "stream",
          "text": [
            "_________________________________________________________________\n",
            "Layer (type)                 Output Shape              Param #   \n",
            "=================================================================\n",
            "embedding_1 (Embedding)      (None, 100, 300)          47620200  \n",
            "_________________________________________________________________\n",
            "conv1d_4 (Conv1D)            (None, 96, 128)           192128    \n",
            "_________________________________________________________________\n",
            "dropout_4 (Dropout)          (None, 96, 128)           0         \n",
            "_________________________________________________________________\n",
            "conv1d_5 (Conv1D)            (None, 92, 128)           82048     \n",
            "_________________________________________________________________\n",
            "dropout_5 (Dropout)          (None, 92, 128)           0         \n",
            "_________________________________________________________________\n",
            "conv1d_6 (Conv1D)            (None, 88, 128)           82048     \n",
            "_________________________________________________________________\n",
            "dropout_6 (Dropout)          (None, 88, 128)           0         \n",
            "_________________________________________________________________\n",
            "flatten_2 (Flatten)          (None, 11264)             0         \n",
            "_________________________________________________________________\n",
            "dense_3 (Dense)              (None, 128)               1441920   \n",
            "_________________________________________________________________\n",
            "dense_4 (Dense)              (None, 4)                 516       \n",
            "=================================================================\n",
            "Total params: 49,418,860\n",
            "Trainable params: 1,798,660\n",
            "Non-trainable params: 47,620,200\n",
            "_________________________________________________________________\n"
          ],
          "name": "stdout"
        }
      ]
    },
    {
      "metadata": {
        "colab_type": "text",
        "id": "LJ1s98tpLv_y"
      },
      "cell_type": "markdown",
      "source": [
        "#### Train the model"
      ]
    },
    {
      "metadata": {
        "colab_type": "code",
        "id": "bxRdrBAr7K47",
        "outputId": "d21ea1dd-39ae-41e0-c30f-1463e27bd8f2",
        "colab": {
          "base_uri": "https://localhost:8080/",
          "height": 1448
        }
      },
      "cell_type": "code",
      "source": [
        "# Weighted cross-entropy loss to handle class imbalance\n",
        "history = model.fit(X_train, y_train, validation_data=(X_test, y_test),\n",
        "                    epochs=20, batch_size=32, callbacks=[cp],\\\n",
        "                    class_weight='auto') "
      ],
      "execution_count": 0,
      "outputs": [
        {
          "output_type": "stream",
          "text": [
            "WARNING:tensorflow:From /usr/local/lib/python3.6/dist-packages/tensorflow/python/ops/math_ops.py:3066: to_int32 (from tensorflow.python.ops.math_ops) is deprecated and will be removed in a future version.\n",
            "Instructions for updating:\n",
            "Use tf.cast instead.\n",
            "Train on 115000 samples, validate on 5000 samples\n",
            "Epoch 1/20\n",
            "115000/115000 [==============================] - 51s 445us/step - loss: 0.3781 - acc: 0.8676 - val_loss: 0.2978 - val_acc: 0.8934\n",
            "\n",
            "Epoch 00001: val_loss improved from inf to 0.29782, saving model to model_cnn.hdf5\n",
            "Epoch 2/20\n",
            "115000/115000 [==============================] - 46s 402us/step - loss: 0.3104 - acc: 0.8935 - val_loss: 0.2925 - val_acc: 0.9010\n",
            "\n",
            "Epoch 00002: val_loss improved from 0.29782 to 0.29253, saving model to model_cnn.hdf5\n",
            "Epoch 3/20\n",
            "115000/115000 [==============================] - 46s 397us/step - loss: 0.2877 - acc: 0.9009 - val_loss: 0.2942 - val_acc: 0.8976\n",
            "\n",
            "Epoch 00003: val_loss did not improve from 0.29253\n",
            "Epoch 4/20\n",
            "115000/115000 [==============================] - 46s 396us/step - loss: 0.2741 - acc: 0.9052 - val_loss: 0.2703 - val_acc: 0.9092\n",
            "\n",
            "Epoch 00004: val_loss improved from 0.29253 to 0.27028, saving model to model_cnn.hdf5\n",
            "Epoch 5/20\n",
            "115000/115000 [==============================] - 46s 399us/step - loss: 0.2642 - acc: 0.9089 - val_loss: 0.2745 - val_acc: 0.9080\n",
            "\n",
            "Epoch 00005: val_loss did not improve from 0.27028\n",
            "Epoch 6/20\n",
            "115000/115000 [==============================] - 45s 396us/step - loss: 0.2558 - acc: 0.9117 - val_loss: 0.2740 - val_acc: 0.9072\n",
            "\n",
            "Epoch 00006: val_loss did not improve from 0.27028\n",
            "Epoch 7/20\n",
            "115000/115000 [==============================] - 46s 396us/step - loss: 0.2494 - acc: 0.9143 - val_loss: 0.2632 - val_acc: 0.9090\n",
            "\n",
            "Epoch 00007: val_loss improved from 0.27028 to 0.26322, saving model to model_cnn.hdf5\n",
            "Epoch 8/20\n",
            "115000/115000 [==============================] - 46s 397us/step - loss: 0.2416 - acc: 0.9173 - val_loss: 0.2570 - val_acc: 0.9106\n",
            "\n",
            "Epoch 00008: val_loss improved from 0.26322 to 0.25700, saving model to model_cnn.hdf5\n",
            "Epoch 9/20\n",
            "115000/115000 [==============================] - 45s 395us/step - loss: 0.2383 - acc: 0.9181 - val_loss: 0.2638 - val_acc: 0.9044\n",
            "\n",
            "Epoch 00009: val_loss did not improve from 0.25700\n",
            "Epoch 10/20\n",
            "115000/115000 [==============================] - 46s 397us/step - loss: 0.2321 - acc: 0.9201 - val_loss: 0.2590 - val_acc: 0.9106\n",
            "\n",
            "Epoch 00010: val_loss did not improve from 0.25700\n",
            "Epoch 11/20\n",
            "115000/115000 [==============================] - 45s 393us/step - loss: 0.2273 - acc: 0.9217 - val_loss: 0.2597 - val_acc: 0.9108\n",
            "\n",
            "Epoch 00011: val_loss did not improve from 0.25700\n",
            "Epoch 12/20\n",
            "115000/115000 [==============================] - 46s 397us/step - loss: 0.2250 - acc: 0.9224 - val_loss: 0.2530 - val_acc: 0.9098\n",
            "\n",
            "Epoch 00012: val_loss improved from 0.25700 to 0.25300, saving model to model_cnn.hdf5\n",
            "Epoch 13/20\n",
            "115000/115000 [==============================] - 46s 400us/step - loss: 0.2191 - acc: 0.9247 - val_loss: 0.2634 - val_acc: 0.9130\n",
            "\n",
            "Epoch 00013: val_loss did not improve from 0.25300\n",
            "Epoch 14/20\n",
            "115000/115000 [==============================] - 46s 404us/step - loss: 0.2172 - acc: 0.9260 - val_loss: 0.2517 - val_acc: 0.9132\n",
            "\n",
            "Epoch 00014: val_loss improved from 0.25300 to 0.25172, saving model to model_cnn.hdf5\n",
            "Epoch 15/20\n",
            "115000/115000 [==============================] - 46s 404us/step - loss: 0.2149 - acc: 0.9258 - val_loss: 0.2664 - val_acc: 0.9072\n",
            "\n",
            "Epoch 00015: val_loss did not improve from 0.25172\n",
            "Epoch 16/20\n",
            "115000/115000 [==============================] - 46s 404us/step - loss: 0.2112 - acc: 0.9270 - val_loss: 0.2574 - val_acc: 0.9090\n",
            "\n",
            "Epoch 00016: val_loss did not improve from 0.25172\n",
            "Epoch 17/20\n",
            "115000/115000 [==============================] - 46s 404us/step - loss: 0.2086 - acc: 0.9288 - val_loss: 0.2651 - val_acc: 0.9078\n",
            "\n",
            "Epoch 00017: val_loss did not improve from 0.25172\n",
            "Epoch 18/20\n",
            "115000/115000 [==============================] - 46s 401us/step - loss: 0.2074 - acc: 0.9297 - val_loss: 0.2364 - val_acc: 0.9166\n",
            "\n",
            "Epoch 00018: val_loss improved from 0.25172 to 0.23641, saving model to model_cnn.hdf5\n",
            "Epoch 19/20\n",
            "115000/115000 [==============================] - 47s 404us/step - loss: 0.2041 - acc: 0.9293 - val_loss: 0.2478 - val_acc: 0.9136\n",
            "\n",
            "Epoch 00019: val_loss did not improve from 0.23641\n",
            "Epoch 20/20\n",
            "115000/115000 [==============================] - 46s 403us/step - loss: 0.2016 - acc: 0.9314 - val_loss: 0.2559 - val_acc: 0.9096\n",
            "\n",
            "Epoch 00020: val_loss did not improve from 0.23641\n"
          ],
          "name": "stdout"
        }
      ]
    },
    {
      "metadata": {
        "colab_type": "text",
        "id": "ALkscte0Lv_3"
      },
      "cell_type": "markdown",
      "source": [
        "#### Plot the loss and accuracy w.r.t. the no. of epochs"
      ]
    },
    {
      "metadata": {
        "colab_type": "code",
        "id": "FkMm8WDX7K4-",
        "outputId": "0b64c6fa-d07f-4351-ff44-ef506d0a6c54",
        "colab": {
          "base_uri": "https://localhost:8080/",
          "height": 457
        }
      },
      "cell_type": "code",
      "source": [
        "plt.figure(figsize=(20,7))\n",
        "plt.subplot(1, 2, 1)\n",
        "plt.plot(history.history['loss'], 'ro-', label='train')\n",
        "plt.plot(history.history['val_loss'], 'bo-', label='val')\n",
        "plt.xlabel('No. of Epochs')\n",
        "plt.ylabel('Loss')\n",
        "plt.title('Model Loss')\n",
        "plt.legend()\n",
        "\n",
        "plt.subplot(1, 2, 2)\n",
        "plt.plot(history.history['acc'], 'ro-',label='train')\n",
        "plt.plot(history.history['val_acc'], 'bo-', label='val')\n",
        "plt.xlabel('No. of Epochs')\n",
        "plt.ylabel('Accuracy')\n",
        "plt.title('Model Accuracy')\n",
        "plt.legend()\n",
        "plt.show()"
      ],
      "execution_count": 0,
      "outputs": [
        {
          "output_type": "display_data",
          "data": {
            "image/png": "[encoded data removed]",
            "text/plain": [
              "<Figure size 1440x504 with 2 Axes>"
            ]
          },
          "metadata": {
            "tags": []
          }
        }
      ]
    },
    {
      "metadata": {
        "colab_type": "text",
        "id": "m7lIsgPbLv_7"
      },
      "cell_type": "markdown",
      "source": [
        "#### Predict and compute the F1 Score on the validation set "
      ]
    },
    {
      "metadata": {
        "colab_type": "code",
        "id": "hCRmlI8B7K5B",
        "colab": {}
      },
      "cell_type": "code",
      "source": [
        "model.load_weights('model_cnn.hdf5')\n",
        "probs = model.predict(X_test)\n",
        "y_pred = np.zeros(probs.shape)\n",
        "y_pred[range(y_pred.shape[0]), np.argmax(probs, axis=1)] = 1"
      ],
      "execution_count": 0,
      "outputs": []
    },
    {
      "metadata": {
        "colab_type": "code",
        "id": "WiLCu8Wv7K5D",
        "outputId": "49a453d8-6851-4493-f0b7-568a12b38a63",
        "colab": {
          "base_uri": "https://localhost:8080/",
          "height": 34
        }
      },
      "cell_type": "code",
      "source": [
        "print('Validation F1 Score:', f1_score(y_test, y_pred, average='weighted'))"
      ],
      "execution_count": 0,
      "outputs": [
        {
          "output_type": "stream",
          "text": [
            "Validation F1 Score: 0.9167701139908581\n"
          ],
          "name": "stdout"
        }
      ]
    },
    {
      "metadata": {
        "colab_type": "code",
        "id": "cQFfF04G7K5F",
        "colab": {}
      },
      "cell_type": "code",
      "source": [
        "testdata = pd.read_csv('test.csv', header = None)"
      ],
      "execution_count": 0,
      "outputs": []
    },
    {
      "metadata": {
        "colab_type": "text",
        "id": "-AT45ZbiLwAD"
      },
      "cell_type": "markdown",
      "source": [
        "### Predict on the test set"
      ]
    },
    {
      "metadata": {
        "colab_type": "text",
        "id": "gGLJJOw_LwAD"
      },
      "cell_type": "markdown",
      "source": [
        "#### Read test data"
      ]
    },
    {
      "metadata": {
        "colab_type": "code",
        "id": "_aqpyTP_LwAF",
        "colab": {}
      },
      "cell_type": "code",
      "source": [
        "concatlist = []\n",
        "for x in range(testdata[0].shape[0]):\n",
        "  concatlist.append(testdata.loc[x][1] + ' ' + testdata.loc[x][2])\n",
        "\n",
        "d = {1:concatlist}\n",
        "testdata = pd.DataFrame(d)"
      ],
      "execution_count": 0,
      "outputs": []
    },
    {
      "metadata": {
        "id": "JME5dQZxyLjG",
        "colab_type": "code",
        "outputId": "4bf42c43-32ce-4eed-cf8d-d7241738d304",
        "colab": {
          "base_uri": "https://localhost:8080/",
          "height": 195
        }
      },
      "cell_type": "code",
      "source": [
        "testdata.head()"
      ],
      "execution_count": 0,
      "outputs": [
        {
          "output_type": "execute_result",
          "data": {
            "text/html": [
              "<div>\n",
              "<style scoped>\n",
              "    .dataframe tbody tr th:only-of-type {\n",
              "        vertical-align: middle;\n",
              "    }\n",
              "\n",
              "    .dataframe tbody tr th {\n",
              "        vertical-align: top;\n",
              "    }\n",
              "\n",
              "    .dataframe thead th {\n",
              "        text-align: right;\n",
              "    }\n",
              "</style>\n",
              "<table border=\"1\" class=\"dataframe\">\n",
              "  <thead>\n",
              "    <tr style=\"text-align: right;\">\n",
              "      <th></th>\n",
              "      <th>1</th>\n",
              "    </tr>\n",
              "  </thead>\n",
              "  <tbody>\n",
              "    <tr>\n",
              "      <th>0</th>\n",
              "      <td>Fears for T N pension after talks Unions repre...</td>\n",
              "    </tr>\n",
              "    <tr>\n",
              "      <th>1</th>\n",
              "      <td>The Race is On: Second Private Team Sets Launc...</td>\n",
              "    </tr>\n",
              "    <tr>\n",
              "      <th>2</th>\n",
              "      <td>Ky. Company Wins Grant to Study Peptides (AP) ...</td>\n",
              "    </tr>\n",
              "    <tr>\n",
              "      <th>3</th>\n",
              "      <td>Prediction Unit Helps Forecast Wildfires (AP) ...</td>\n",
              "    </tr>\n",
              "    <tr>\n",
              "      <th>4</th>\n",
              "      <td>Calif. Aims to Limit Farm-Related Smog (AP) AP...</td>\n",
              "    </tr>\n",
              "  </tbody>\n",
              "</table>\n",
              "</div>"
            ],
            "text/plain": [
              "                                                   1\n",
              "0  Fears for T N pension after talks Unions repre...\n",
              "1  The Race is On: Second Private Team Sets Launc...\n",
              "2  Ky. Company Wins Grant to Study Peptides (AP) ...\n",
              "3  Prediction Unit Helps Forecast Wildfires (AP) ...\n",
              "4  Calif. Aims to Limit Farm-Related Smog (AP) AP..."
            ]
          },
          "metadata": {
            "tags": []
          },
          "execution_count": 37
        }
      ]
    },
    {
      "metadata": {
        "colab_type": "text",
        "id": "gy-Rzf5aLwAH"
      },
      "cell_type": "markdown",
      "source": [
        "#### Tokenize and pad test sequences"
      ]
    },
    {
      "metadata": {
        "colab_type": "code",
        "id": "oRelA_WVLwAH",
        "colab": {}
      },
      "cell_type": "code",
      "source": [
        "test_sequences = tokenizer.texts_to_sequences(testdata[1])\n",
        "test_padded = pad_sequences(test_sequences, maxlen=MAX_LEN)"
      ],
      "execution_count": 0,
      "outputs": []
    },
    {
      "metadata": {
        "colab_type": "text",
        "id": "EmHysW8BLwAJ"
      },
      "cell_type": "markdown",
      "source": [
        "#### Make predictions"
      ]
    },
    {
      "metadata": {
        "colab_type": "code",
        "id": "Dk56Cv5qLwAK",
        "outputId": "aadc38cb-6703-40dd-f3b4-2fb3fe28c799",
        "colab": {
          "base_uri": "https://localhost:8080/",
          "height": 118
        }
      },
      "cell_type": "code",
      "source": [
        "test_prob = model.predict(test_padded)\n",
        "test_prob[:5]"
      ],
      "execution_count": 0,
      "outputs": [
        {
          "output_type": "execute_result",
          "data": {
            "text/plain": [
              "array([[3.6549038e-01, 8.4645618e-03, 5.7449776e-01, 5.1547296e-02],\n",
              "       [3.9576785e-06, 8.7964245e-12, 3.0804949e-04, 9.9968803e-01],\n",
              "       [1.9092502e-02, 6.4570463e-04, 4.2273581e-02, 9.3798816e-01],\n",
              "       [1.7039423e-01, 7.2223279e-03, 3.2802097e-02, 7.8958130e-01],\n",
              "       [9.0451546e-02, 3.0638666e-03, 9.8807372e-02, 8.0767727e-01]],\n",
              "      dtype=float32)"
            ]
          },
          "metadata": {
            "tags": []
          },
          "execution_count": 39
        }
      ]
    },
    {
      "metadata": {
        "colab_type": "text",
        "id": "tGywDYmvLwAM"
      },
      "cell_type": "markdown",
      "source": [
        "#### Convert probablities into integer labels"
      ]
    },
    {
      "metadata": {
        "colab_type": "code",
        "id": "Evnk1piILwAN",
        "outputId": "0116e9b4-3a59-424e-bd59-03f3713331a6",
        "colab": {
          "base_uri": "https://localhost:8080/",
          "height": 34
        }
      },
      "cell_type": "code",
      "source": [
        "test_pred = np.argmax(test_prob, axis=1)\n",
        "test_pred[:5]"
      ],
      "execution_count": 0,
      "outputs": [
        {
          "output_type": "execute_result",
          "data": {
            "text/plain": [
              "array([2, 3, 3, 3, 3])"
            ]
          },
          "metadata": {
            "tags": []
          },
          "execution_count": 40
        }
      ]
    },
    {
      "metadata": {
        "colab_type": "text",
        "id": "JBBsPfY1LwAQ"
      },
      "cell_type": "markdown",
      "source": [
        "#### Convert the integer lables into the corresponding string targets"
      ]
    },
    {
      "metadata": {
        "colab_type": "code",
        "id": "J850s9bhLwAR",
        "outputId": "8c5c6a15-db7a-44a7-80ba-9bf161616358",
        "colab": {
          "base_uri": "https://localhost:8080/",
          "height": 34
        }
      },
      "cell_type": "code",
      "source": [
        "test_classes = LE.inverse_transform(test_pred)\n",
        "test_classes[:5]"
      ],
      "execution_count": 0,
      "outputs": [
        {
          "output_type": "execute_result",
          "data": {
            "text/plain": [
              "array([3, 4, 4, 4, 4])"
            ]
          },
          "metadata": {
            "tags": []
          },
          "execution_count": 41
        }
      ]
    },
    {
      "metadata": {
        "id": "GMJTlZvty8Fe",
        "colab_type": "code",
        "colab": {}
      },
      "cell_type": "code",
      "source": [
        "label_to_string = {1:'World' ,2:'Sports', 3:'Business', 4:'Sci/Tech'}\n",
        "test_labels = [label_to_string[x] for x in test_classes]"
      ],
      "execution_count": 0,
      "outputs": []
    },
    {
      "metadata": {
        "colab_type": "text",
        "id": "nGnxEkB2LwAT"
      },
      "cell_type": "markdown",
      "source": [
        "#### Make submission dataframe"
      ]
    },
    {
      "metadata": {
        "colab_type": "code",
        "id": "TAz6C2jWLwAV",
        "outputId": "0a88249c-57c4-4db0-817e-9a1f370ca9fc",
        "colab": {
          "base_uri": "https://localhost:8080/",
          "height": 195
        }
      },
      "cell_type": "code",
      "source": [
        "submit = testdata.copy()\n",
        "submit[2] = test_labels\n",
        "submit.columns = ['Title + description', 'predicted_category']\n",
        "submit.head()"
      ],
      "execution_count": 0,
      "outputs": [
        {
          "output_type": "execute_result",
          "data": {
            "text/html": [
              "<div>\n",
              "<style scoped>\n",
              "    .dataframe tbody tr th:only-of-type {\n",
              "        vertical-align: middle;\n",
              "    }\n",
              "\n",
              "    .dataframe tbody tr th {\n",
              "        vertical-align: top;\n",
              "    }\n",
              "\n",
              "    .dataframe thead th {\n",
              "        text-align: right;\n",
              "    }\n",
              "</style>\n",
              "<table border=\"1\" class=\"dataframe\">\n",
              "  <thead>\n",
              "    <tr style=\"text-align: right;\">\n",
              "      <th></th>\n",
              "      <th>Title + description</th>\n",
              "      <th>predicted_category</th>\n",
              "    </tr>\n",
              "  </thead>\n",
              "  <tbody>\n",
              "    <tr>\n",
              "      <th>0</th>\n",
              "      <td>Fears for T N pension after talks Unions repre...</td>\n",
              "      <td>Business</td>\n",
              "    </tr>\n",
              "    <tr>\n",
              "      <th>1</th>\n",
              "      <td>The Race is On: Second Private Team Sets Launc...</td>\n",
              "      <td>Sci/Tech</td>\n",
              "    </tr>\n",
              "    <tr>\n",
              "      <th>2</th>\n",
              "      <td>Ky. Company Wins Grant to Study Peptides (AP) ...</td>\n",
              "      <td>Sci/Tech</td>\n",
              "    </tr>\n",
              "    <tr>\n",
              "      <th>3</th>\n",
              "      <td>Prediction Unit Helps Forecast Wildfires (AP) ...</td>\n",
              "      <td>Sci/Tech</td>\n",
              "    </tr>\n",
              "    <tr>\n",
              "      <th>4</th>\n",
              "      <td>Calif. Aims to Limit Farm-Related Smog (AP) AP...</td>\n",
              "      <td>Sci/Tech</td>\n",
              "    </tr>\n",
              "  </tbody>\n",
              "</table>\n",
              "</div>"
            ],
            "text/plain": [
              "                                 Title + description predicted_category\n",
              "0  Fears for T N pension after talks Unions repre...           Business\n",
              "1  The Race is On: Second Private Team Sets Launc...           Sci/Tech\n",
              "2  Ky. Company Wins Grant to Study Peptides (AP) ...           Sci/Tech\n",
              "3  Prediction Unit Helps Forecast Wildfires (AP) ...           Sci/Tech\n",
              "4  Calif. Aims to Limit Farm-Related Smog (AP) AP...           Sci/Tech"
            ]
          },
          "metadata": {
            "tags": []
          },
          "execution_count": 55
        }
      ]
    },
    {
      "metadata": {
        "colab_type": "text",
        "id": "QyNan9JwLwAX"
      },
      "cell_type": "markdown",
      "source": [
        "#### Write to submission.csv"
      ]
    },
    {
      "metadata": {
        "colab_type": "code",
        "id": "zo6eUt98LwAX",
        "colab": {}
      },
      "cell_type": "code",
      "source": [
        "submit.to_csv('submission.csv', index=None)"
      ],
      "execution_count": 0,
      "outputs": []
    },
    {
      "metadata": {
        "colab_type": "code",
        "id": "gN4IzntMdBQ8",
        "outputId": "d7bc7f57-f538-4973-caf1-01d5cb88f169",
        "colab": {
          "base_uri": "https://localhost:8080/",
          "height": 50
        }
      },
      "cell_type": "code",
      "source": [
        "!ls"
      ],
      "execution_count": 0,
      "outputs": [
        {
          "output_type": "stream",
          "text": [
            "glove.840B.300d.txt\tmodel_cnn.hdf5\tsubmission.csv\ttrain.csv\n",
            "glove.840B.300d.txt.gz\tsample_data\ttest.csv\n"
          ],
          "name": "stdout"
        }
      ]
    },
    {
      "metadata": {
        "id": "R-zMBYswn4Ep",
        "colab_type": "code",
        "colab": {}
      },
      "cell_type": "code",
      "source": [
        "files.download('submission.csv') "
      ],
      "execution_count": 0,
      "outputs": []
    },
    {
      "metadata": {
        "id": "TWt_HbrCn4G_",
        "colab_type": "code",
        "colab": {}
      },
      "cell_type": "code",
      "source": [
        ""
      ],
      "execution_count": 0,
      "outputs": []
    }
  ]
}